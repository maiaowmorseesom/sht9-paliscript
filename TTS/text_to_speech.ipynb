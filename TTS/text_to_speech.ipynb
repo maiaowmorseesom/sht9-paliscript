{
 "cells": [
  {
   "cell_type": "code",
   "execution_count": null,
   "id": "0a4e6a40",
   "metadata": {},
   "outputs": [],
   "source": []
  },
  {
   "cell_type": "markdown",
   "id": "1c5de14e",
   "metadata": {},
   "source": [
    ">อันนี้คือแค่ลองรันดูแต่ละ cell ไม่ได้อยู่ใน production หลัก\n",
    "\n",
    "แต่ที่หลักๆคือ **TTS.py**"
   ]
  },
  {
   "cell_type": "code",
   "execution_count": 1,
   "id": "476bdbc2",
   "metadata": {},
   "outputs": [
    {
     "data": {
      "text/plain": [
       "['Requirement already satisfied: gTTS in /opt/homebrew/lib/python3.10/site-packages (2.5.4)',\n",
       " 'Requirement already satisfied: requests<3,>=2.27 in /opt/homebrew/lib/python3.10/site-packages (from gTTS) (2.32.3)',\n",
       " 'Requirement already satisfied: click<8.2,>=7.1 in /opt/homebrew/lib/python3.10/site-packages (from gTTS) (8.1.8)',\n",
       " 'Requirement already satisfied: charset-normalizer<4,>=2 in /opt/homebrew/lib/python3.10/site-packages (from requests<3,>=2.27->gTTS) (3.4.1)',\n",
       " 'Requirement already satisfied: idna<4,>=2.5 in /opt/homebrew/lib/python3.10/site-packages (from requests<3,>=2.27->gTTS) (3.10)',\n",
       " 'Requirement already satisfied: urllib3<3,>=1.21.1 in /opt/homebrew/lib/python3.10/site-packages (from requests<3,>=2.27->gTTS) (2.3.0)',\n",
       " 'Requirement already satisfied: certifi>=2017.4.17 in /opt/homebrew/lib/python3.10/site-packages (from requests<3,>=2.27->gTTS) (2025.1.31)']"
      ]
     },
     "execution_count": 1,
     "metadata": {},
     "output_type": "execute_result"
    }
   ],
   "source": [
    "!!pip install gTTS"
   ]
  },
  {
   "cell_type": "code",
   "execution_count": 35,
   "id": "eefab991",
   "metadata": {},
   "outputs": [],
   "source": [
    "from gtts import gTTS"
   ]
  },
  {
   "cell_type": "code",
   "execution_count": 27,
   "id": "fba1900f",
   "metadata": {},
   "outputs": [],
   "source": [
    "thai_text = \"\"\"\n",
    "อะระหัง สัมมา สัมพุทโธ ภะคะวา อะระหัง สัมมา สัมพุทโธ ภะคะวา\n",
    "พุทธัง ภาควันตัง อภิวาเทมิ พุทธัง ภาควันตัง อภิวาเทมิ\n",
    "สวากขาโต ภะคะวะตาธัมโม ธัมมัง นะมะสาหมิ ธัมมัง นะมะสาหมิ\n",
    "สุปฏิปันโน ภะคะวะโต สาวกสังโฆ สุปฏิปันโน ภะคะวะโต สาวกสังโฆ\n",
    "สังฆัง นะมามิ สังฆัง นะมามิ\n",
    "นะโม อมิตาภะ นะโม ตถาคตโต อรหโต สัมมาสัมพุทธัสสะ...\n",
    "(ต่อได้เรื่อยๆ)\n",
    "\"\"\""
   ]
  },
  {
   "cell_type": "code",
   "execution_count": 39,
   "id": "3d2bf6ea",
   "metadata": {},
   "outputs": [],
   "source": [
    "import gtts"
   ]
  },
  {
   "cell_type": "code",
   "execution_count": 40,
   "id": "b9f5765d",
   "metadata": {},
   "outputs": [],
   "source": [
    "from gtts import gTTS"
   ]
  },
  {
   "cell_type": "code",
   "execution_count": null,
   "id": "e015baad",
   "metadata": {},
   "outputs": [
    {
     "ename": "TypeError",
     "evalue": "tts_langs() got an unexpected keyword argument 'tld'",
     "output_type": "error",
     "traceback": [
      "\u001b[0;31m---------------------------------------------------------------------------\u001b[0m",
      "\u001b[0;31mTypeError\u001b[0m                                 Traceback (most recent call last)",
      "Cell \u001b[0;32mIn[46], line 1\u001b[0m\n\u001b[0;32m----> 1\u001b[0m \u001b[38;5;28mprint\u001b[39m(\u001b[43mgtts\u001b[49m\u001b[38;5;241;43m.\u001b[39;49m\u001b[43mlang\u001b[49m\u001b[38;5;241;43m.\u001b[39;49m\u001b[43mtts_langs\u001b[49m\u001b[43m(\u001b[49m\u001b[43mtld\u001b[49m\u001b[38;5;241;43m=\u001b[39;49m\u001b[38;5;124;43m'\u001b[39;49m\u001b[38;5;124;43mcom\u001b[39;49m\u001b[38;5;124;43m'\u001b[39;49m\u001b[43m)\u001b[49m)\n",
      "\u001b[0;31mTypeError\u001b[0m: tts_langs() got an unexpected keyword argument 'tld'"
     ]
    }
   ],
   "source": [
    "print(gtts.lang.tts_langs())"
   ]
  },
  {
   "cell_type": "code",
   "execution_count": 42,
   "id": "70df3029",
   "metadata": {},
   "outputs": [
    {
     "ename": "AttributeError",
     "evalue": "type object 'gTTS' has no attribute 'lang'",
     "output_type": "error",
     "traceback": [
      "\u001b[0;31m---------------------------------------------------------------------------\u001b[0m",
      "\u001b[0;31mAttributeError\u001b[0m                            Traceback (most recent call last)",
      "Cell \u001b[0;32mIn[42], line 1\u001b[0m\n\u001b[0;32m----> 1\u001b[0m \u001b[43mgTTS\u001b[49m\u001b[38;5;241;43m.\u001b[39;49m\u001b[43mlang\u001b[49m\u001b[38;5;241m.\u001b[39mtts_langs(tld\u001b[38;5;241m=\u001b[39m\u001b[38;5;124m'\u001b[39m\u001b[38;5;124mcom\u001b[39m\u001b[38;5;124m'\u001b[39m)\n",
      "\u001b[0;31mAttributeError\u001b[0m: type object 'gTTS' has no attribute 'lang'"
     ]
    }
   ],
   "source": [
    "gTTS.lang.tts_langs(tld='com')"
   ]
  },
  {
   "cell_type": "code",
   "execution_count": 28,
   "id": "47b3a14d",
   "metadata": {},
   "outputs": [],
   "source": [
    "tts = gTTS(text=thai_text, lang='th')\n",
    "\n",
    "output_path = '/Users/psoongsu/Desktop/MyCode/Stupid9/sht9-paliscript/TTS/output_mp3/output.mp3'\n",
    "tts.save(output_path)"
   ]
  },
  {
   "cell_type": "markdown",
   "id": "f30b03f0",
   "metadata": {},
   "source": [
    "## PostProcess"
   ]
  },
  {
   "cell_type": "code",
   "execution_count": 10,
   "id": "b9009148",
   "metadata": {},
   "outputs": [],
   "source": [
    "from pydub import AudioSegment\n",
    "from pydub.playback import play\n",
    "import numpy as np"
   ]
  },
  {
   "cell_type": "code",
   "execution_count": 25,
   "id": "40316236",
   "metadata": {},
   "outputs": [
    {
     "name": "stdout",
     "output_type": "stream",
     "text": [
      "เสียงสวดแบบพระถูกบันทึกเป็น monk_chant_improved.wav แล้ว\n"
     ]
    }
   ],
   "source": [
    "# Download audio\n",
    "audio = AudioSegment.from_file(\"/Users/psoongsu/Desktop/MyCode/Stupid9/sht9-paliscript/TTS/output_mp3/output.mp3\")\n",
    "\n",
    "# 2. ปรับความดังเบื้องต้น (ถ้าเสียงต้นฉบับเบาหรือดังเกินไป)\n",
    "audio = audio.set_channels(1) # เพื่อความง่ายในการประมวลผล, แปลงเป็น mono\n",
    "audio = audio.set_frame_rate(44100) # กำหนด frame rate มาตรฐาน\n",
    "\n",
    "# 3. ลดความเร็วและปรับ Pitch อย่างละเอียดขึ้น (ใช้เทคนิคที่ซับซ้อนขึ้น)\n",
    "# วิธีนี้พยายามรักษา pitch เมื่อลดความเร็ว แต่ก็ยังจำกัดใน Pydub\n",
    "# ถ้าต้องการคุณภาพสูง ต้องใช้ Librosa/PyDub combined with external pitch shifters\n",
    "slowed_audio_rate = int(audio.frame_rate * 0.9) # ลดความเร็วลง 30%\n",
    "slowed_audio = audio._spawn(audio.raw_data, overrides={\"frame_rate\": slowed_audio_rate})\n",
    "slowed_audio = slowed_audio.set_frame_rate(audio.frame_rate) # ตั้ง frame rate กลับ เพื่อรักษา pitch ให้ใกล้เคียง\n",
    "\n",
    "# 4. เพิ่ม Reverb effect (เสียงก้อง) ให้เป็นธรรมชาติขึ้น\n",
    "# การทำ reverb ด้วย pydub ให้ผลลัพธ์ที่จำกัด\n",
    "# คุณอาจต้องลองใช้ค่า delay และ gain ที่หลากหลายขึ้น หรือพิจารณาใช้ไลบรารีอื่น\n",
    "reverb_audio = slowed_audio\n",
    "initial_delay = 300 # ms\n",
    "decay_factor = 0.6 # ปัจจัยการลดทอนของแต่ละ echo (0-1)\n",
    "\n",
    "# สร้างหลายๆ echo ที่ลดทอนลงไปเรื่อยๆ\n",
    "for i in range(1, 5): # สร้าง 4 layers ของ echo\n",
    "    delay = initial_delay * i\n",
    "    gain = -20 * i * decay_factor # ลด gain ให้มากขึ้นตามจำนวน echo\n",
    "    echo = slowed_audio.apply_gain(gain)\n",
    "    reverb_audio = reverb_audio.overlay(echo, position=delay)\n",
    "\n",
    "# 5. กรองเสียงให้ทุ้มขึ้นและชัดเจนขึ้น (ปรับ EQ)\n",
    "# บทสวดมักจะมีเสียงย่านต่ำที่ชัดเจน แต่ก็ยังคงรายละเอียดของเสียงพูด\n",
    "# ลองปรับ Low-pass filter ให้ออกไปในย่านที่สูงขึ้น เพื่อให้เสียงไม่ทึบเกินไป\n",
    "# และ High-pass filter เพื่อตัดเสียงรบกวนต่ำๆ ที่ไม่จำเป็นออก\n",
    "filtered_audio = reverb_audio.low_pass_filter(2500) # กรองความถี่สูงกว่า 2500 Hz (ให้เสียงทุ้มขึ้นแต่ยังชัด)\n",
    "filtered_audio = filtered_audio.high_pass_filter(100) # เอาเสียงต่ำเกินไปออก (เพื่อให้เสียงไม่บวม)\n",
    "\n",
    "# 6. เพิ่มความดังและลดเสียงที่ดังเกินไป\n",
    "# บทสวดมักจะมีความดังที่สม่ำเสมอ\n",
    "final_audio = filtered_audio.normalize() # ปรับความดังสูงสุดให้เป็น 0 dBFS\n",
    "final_audio = final_audio.apply_gain(-3) # ลดเสียงลง 3 dB จากจุดสูงสุด เพื่อไม่ให้เสียงแตก\n",
    "\n",
    "# 7. เล่นและบันทึกเสียง\n",
    "final_audio.export(\"/Users/psoongsu/Desktop/MyCode/Stupid9/sht9-paliscript/TTS/monk_chant_improved.wav\", format=\"wav\")\n",
    "\n",
    "print(\"เสียงสวดแบบพระถูกบันทึกเป็น monk_chant_improved.wav แล้ว\")"
   ]
  },
  {
   "cell_type": "code",
   "execution_count": 22,
   "id": "370eb4ec",
   "metadata": {},
   "outputs": [
    {
     "data": {
      "text/plain": [
       "['Requirement already satisfied: soundfile in /opt/homebrew/lib/python3.10/site-packages (0.13.1)',\n",
       " 'Requirement already satisfied: cffi>=1.0 in /opt/homebrew/lib/python3.10/site-packages (from soundfile) (1.17.1)',\n",
       " 'Requirement already satisfied: numpy in /opt/homebrew/lib/python3.10/site-packages (from soundfile) (2.0.2)',\n",
       " 'Requirement already satisfied: pycparser in /opt/homebrew/lib/python3.10/site-packages (from cffi>=1.0->soundfile) (2.22)']"
      ]
     },
     "execution_count": 22,
     "metadata": {},
     "output_type": "execute_result"
    }
   ],
   "source": [
    "!!pip install librosa\n",
    "!!pip install soundfile"
   ]
  },
  {
   "cell_type": "code",
   "execution_count": 31,
   "id": "58d72ef0",
   "metadata": {},
   "outputs": [
    {
     "data": {
      "text/plain": [
       "<_io.BufferedRandom name='/Users/psoongsu/Desktop/MyCode/Stupid9/sht9-paliscript/TTS/output_mp3/output_CC.mp3'>"
      ]
     },
     "execution_count": 31,
     "metadata": {},
     "output_type": "execute_result"
    }
   ],
   "source": [
    "from pydub import AudioSegment\n",
    "\n",
    "def change_pitch(audio_segment, octaves):\n",
    "    new_sample_rate = int(audio_segment.frame_rate * (2.0 ** octaves))\n",
    "    return audio_segment._spawn(audio_segment.raw_data, overrides={'frame_rate': new_sample_rate}).set_frame_rate(44100)\n",
    "\n",
    "sound = AudioSegment.from_file(\"/Users/psoongsu/Desktop/MyCode/Stupid9/sht9-paliscript/TTS/output_mp3/output.mp3\")\n",
    "lowered = change_pitch(sound, -0.4)  # -0.5 = ลง 1/2 octave (ใกล้เสียงผู้ชาย)\n",
    "\n",
    "lowered.export(\"/Users/psoongsu/Desktop/MyCode/Stupid9/sht9-paliscript/TTS/output_mp3/output_CC.mp3\", format=\"mp3\")\n"
   ]
  },
  {
   "cell_type": "code",
   "execution_count": 32,
   "id": "060f7b8c",
   "metadata": {},
   "outputs": [
    {
     "data": {
      "text/plain": [
       "['==> Fetching downloads for: sox',\n",
       " '==> Downloading https://ghcr.io/v2/homebrew/core/sox/manifests/14.4.2_6',\n",
       " '==> Fetching dependencies for sox: mad and opusfile',\n",
       " '==> Downloading https://ghcr.io/v2/homebrew/core/mad/manifests/0.15.1b-2',\n",
       " '==> Fetching mad',\n",
       " '==> Downloading https://ghcr.io/v2/homebrew/core/mad/blobs/sha256:1facd8abee7e62bba7c7e445d2cbc5900dfe2dc7903be43a40b128c68f519b02',\n",
       " '==> Downloading https://ghcr.io/v2/homebrew/core/opusfile/manifests/0.12_1',\n",
       " '==> Fetching opusfile',\n",
       " '==> Downloading https://ghcr.io/v2/homebrew/core/opusfile/blobs/sha256:ad3b05a6931361ed1be9fd61d7c378d149071cf50bf0e7741df0799da481849a',\n",
       " '==> Fetching sox',\n",
       " '==> Downloading https://ghcr.io/v2/homebrew/core/sox/blobs/sha256:dd3179a8e7d8399ef404e8e19e199d7cb2d43bc7472cc6e5932777dd204ea20f',\n",
       " '==> Installing dependencies for sox: mad and opusfile',\n",
       " '==> Installing sox dependency: mad',\n",
       " '==> Downloading https://ghcr.io/v2/homebrew/core/mad/manifests/0.15.1b-2',\n",
       " 'Already downloaded: /Users/psoongsu/Library/Caches/Homebrew/downloads/0a32f260093003c89e095d94ee89520a5c0e6de315c44e54e45959a800846b95--mad-0.15.1b-2.bottle_manifest.json',\n",
       " '==> Pouring mad--0.15.1b.arm64_sequoia.bottle.2.tar.gz',\n",
       " '🍺  /opt/homebrew/Cellar/mad/0.15.1b: 14 files, 373.1KB',\n",
       " '==> Installing sox dependency: opusfile',\n",
       " '==> Downloading https://ghcr.io/v2/homebrew/core/opusfile/manifests/0.12_1',\n",
       " 'Already downloaded: /Users/psoongsu/Library/Caches/Homebrew/downloads/925bc6092c568bdec41e7c000aa7409fe98bb4129ee54cd512dc12ab2d3d8424--opusfile-0.12_1.bottle_manifest.json',\n",
       " '==> Pouring opusfile--0.12_1.arm64_sequoia.bottle.tar.gz',\n",
       " '🍺  /opt/homebrew/Cellar/opusfile/0.12_1: 18 files, 349.8KB',\n",
       " '==> Installing sox',\n",
       " '==> Pouring sox--14.4.2_6.arm64_sequoia.bottle.tar.gz',\n",
       " '🍺  /opt/homebrew/Cellar/sox/14.4.2_6: 26 files, 2.0MB',\n",
       " '==> Running `brew cleanup sox`...',\n",
       " 'Disable this behaviour by setting HOMEBREW_NO_INSTALL_CLEANUP.',\n",
       " 'Hide these hints with HOMEBREW_NO_ENV_HINTS (see `man brew`).']"
      ]
     },
     "execution_count": 32,
     "metadata": {},
     "output_type": "execute_result"
    }
   ],
   "source": [
    "!!brew install sox"
   ]
  },
  {
   "cell_type": "code",
   "execution_count": 33,
   "id": "3b1cabd9",
   "metadata": {},
   "outputs": [
    {
     "name": "stdout",
     "output_type": "stream",
     "text": [
      "✅ แปลงสำเร็จ: voice_male_chant.wav\n"
     ]
    }
   ],
   "source": [
    "import os\n",
    "\n",
    "# ตั้งชื่อไฟล์ input/output\n",
    "input_path = \"/Users/psoongsu/Desktop/MyCode/Stupid9/sht9-paliscript/TTS/output_mp3/output.mp3\"\n",
    "temp_wav_path = \"/Users/psoongsu/Desktop/MyCode/Stupid9/sht9-paliscript/TTS/output_mp3/output.wav\"\n",
    "output_path = \"/Users/psoongsu/Desktop/MyCode/Stupid9/sht9-paliscript/TTS/output_mp3/voice_male_chant.wav\"\n",
    "\n",
    "# แปลง .mp3 เป็น .wav (sox แนะนำให้ใช้ wav)\n",
    "os.system(f\"sox '{input_path}' '{temp_wav_path}'\")\n",
    "\n",
    "# ใช้ sox ลด pitch ลง 500 cent (5 semitone) เพื่อให้เสียงทุ้มลงเหมือนเสียงพระสวด\n",
    "# และใช้ highpass + lowpass filter กรองให้เสียงนุ่มลึก\n",
    "os.system(f\"sox '{temp_wav_path}' '{output_path}' pitch -500 highpass 80 lowpass 300\")\n",
    "\n",
    "print(\"✅ แปลงสำเร็จ: voice_male_chant.wav\")\n"
   ]
  },
  {
   "cell_type": "code",
   "execution_count": 18,
   "id": "273796ce",
   "metadata": {},
   "outputs": [],
   "source": [
    "import os\n",
    "\n",
    "os.remove('/Users/psoongsu/Desktop/MyCode/Stupid9/sht9-paliscript/TTS/monk_chant_improved.wav')"
   ]
  },
  {
   "cell_type": "code",
   "execution_count": null,
   "id": "277f30d6",
   "metadata": {},
   "outputs": [],
   "source": []
  },
  {
   "cell_type": "code",
   "execution_count": 47,
   "id": "71096c16",
   "metadata": {},
   "outputs": [],
   "source": [
    "thai_text = \"\"\"\n",
    "อะระหัง สัมมา สัมพุทโธ ภะคะวา อะระหัง สัมมา สัมพุทโธ ภะคะวา\n",
    "พุทธัง ภาควันตัง อภิวาเทมิ พุทธัง ภาควันตัง อภิวาเทมิ\n",
    "สวากขาโต ภะคะวะตาธัมโม ธัมมัง นะมะสาหมิ ธัมมัง นะมะสาหมิ\n",
    "สุปฏิปันโน ภะคะวะโต สาวกสังโฆ สุปฏิปันโน ภะคะวะโต สาวกสังโฆ\n",
    "สังฆัง นะมามิ สังฆัง นะมามิ\n",
    "นะโม อมิตาภะ นะโม ตถาคตโต อรหโต สัมมาสัมพุทธัสสะ...\n",
    "(ต่อได้เรื่อยๆ)\n",
    "\"\"\""
   ]
  },
  {
   "cell_type": "code",
   "execution_count": 52,
   "id": "610c734c",
   "metadata": {},
   "outputs": [
    {
     "name": "stdout",
     "output_type": "stream",
     "text": [
      "\n",
      "API Response (Raw Text - ไม่ใช่ JSON):\n",
      "NOT_FOUND\n"
     ]
    }
   ],
   "source": [
    "import http.client\n",
    "import json # นำเข้าไลบรารีสำหรับทำงานกับ JSON\n",
    "\n",
    "# --- ข้อมูลที่คุณต้องกรอก ---\n",
    "YOUR_API_KEY = \"Bearerb Y92rMtxZcQ4\" # <--- **แทนที่ตรงนี้ด้วย API Key ของคุณจริงๆ**\n",
    "SANSKRIT_CHART_TEXT = thai_text # <--- **ใส่บทสวดสันสกฤตของคุณตรงนี้**\n",
    "# -------------------------\n",
    "\n",
    "# เลือก endpoint สำหรับเสียงผู้ชาย (สามารถเลือก 'tts-sita' หรือ 'tts-ram' ได้)\n",
    "# สำหรับตัวอย่างนี้เราจะใช้ 'tts-sita'\n",
    "ENDPOINT = \"/api/v1/tts-turbo/tts-sita\"\n",
    "\n",
    "conn = http.client.HTTPSConnection(\"api.celestiai.co\")\n",
    "\n",
    "# สร้าง payload ในรูปแบบ JSON\n",
    "# API ต้องการ key ชื่อ \"text\" ที่มีค่าเป็นข้อความที่เราต้องการให้พูด\n",
    "payload_data = {\n",
    "    \"text\": SANSKRIT_CHART_TEXT\n",
    "}\n",
    "payload = json.dumps(payload_data) # แปลง Python dictionary ให้เป็น JSON string\n",
    "\n",
    "headers = {\n",
    "    'Content-Type': \"application/json\",\n",
    "    'x-api-key': YOUR_API_KEY # **เพิ่ม API Key ของคุณใน Header นี้**\n",
    "}\n",
    "\n",
    "try:\n",
    "    conn.request(\"POST\", ENDPOINT, payload, headers)\n",
    "    res = conn.getresponse()\n",
    "    response_data = res.read()\n",
    "\n",
    "    # ลอง decode เป็น JSON เพื่อดู response\n",
    "    try:\n",
    "        json_response = json.loads(response_data.decode(\"utf-8\"))\n",
    "        print(\"API Response (JSON):\")\n",
    "        print(json.dumps(json_response, indent=2, ensure_ascii=False)) # พิมพ์ JSON ให้สวยงาม\n",
    "\n",
    "        # ถ้าสำเร็จ API จะคืนค่า URL ของไฟล์เสียงมาให้\n",
    "        if \"data\" in json_response and \"audio_url\" in json_response[\"data\"]:\n",
    "            audio_url = json_response[\"data\"][\"audio_url\"]\n",
    "            print(f\"\\nเสียงบทสวดของคุณอยู่ที่ URL: {audio_url}\")\n",
    "            print(\"คุณสามารถคัดลอก URL นี้ไปเปิดในเว็บเบราว์เซอร์เพื่อฟังหรือดาวน์โหลดได้เลย\")\n",
    "        elif \"error\" in json_response:\n",
    "            print(f\"\\nเกิดข้อผิดพลาดจาก API: {json_response['error']}\")\n",
    "        else:\n",
    "            print(\"\\nได้รับ response แต่ไม่พบ audio_url หรือข้อความ error ที่ชัดเจน\")\n",
    "\n",
    "    except json.JSONDecodeError:\n",
    "        print(\"\\nAPI Response (Raw Text - ไม่ใช่ JSON):\")\n",
    "        print(response_data.decode(\"utf-8\")) # ถ้าไม่ใช่ JSON ก็พิมพ์เป็น text ไปเลย\n",
    "\n",
    "except Exception as e:\n",
    "    print(f\"\\nเกิดข้อผิดพลาดในการเชื่อมต่อหรือส่ง Request: {e}\")\n",
    "\n",
    "finally:\n",
    "    conn.close() # ปิดการเชื่อมต่อเมื่อทำงานเสร็จสิ้น"
   ]
  },
  {
   "cell_type": "code",
   "execution_count": null,
   "id": "ec5e926d",
   "metadata": {},
   "outputs": [],
   "source": []
  }
 ],
 "metadata": {
  "kernelspec": {
   "display_name": "Python 3",
   "language": "python",
   "name": "python3"
  },
  "language_info": {
   "codemirror_mode": {
    "name": "ipython",
    "version": 3
   },
   "file_extension": ".py",
   "mimetype": "text/x-python",
   "name": "python",
   "nbconvert_exporter": "python",
   "pygments_lexer": "ipython3",
   "version": "3.10.18"
  }
 },
 "nbformat": 4,
 "nbformat_minor": 5
}
